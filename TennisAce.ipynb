{
  "nbformat": 4,
  "nbformat_minor": 0,
  "metadata": {
    "colab": {
      "name": "TennisAce.ipynb",
      "provenance": [],
      "collapsed_sections": [],
      "authorship_tag": "ABX9TyN/PrV069vSRHW4+k22nnJO",
      "include_colab_link": true
    },
    "kernelspec": {
      "name": "python3",
      "display_name": "Python 3"
    }
  },
  "cells": [
    {
      "cell_type": "markdown",
      "metadata": {
        "id": "view-in-github",
        "colab_type": "text"
      },
      "source": [
        "<a href=\"https://colab.research.google.com/github/olgOk/Tennis-Ace/blob/master/TennisAce.ipynb\" target=\"_parent\"><img src=\"https://colab.research.google.com/assets/colab-badge.svg\" alt=\"Open In Colab\"/></a>"
      ]
    },
    {
      "cell_type": "markdown",
      "metadata": {
        "id": "Fclej9-bwpe0",
        "colab_type": "text"
      },
      "source": [
        "# Tennis Ace Regression Model"
      ]
    },
    {
      "cell_type": "markdown",
      "metadata": {
        "id": "lMSB3oO5wv7t",
        "colab_type": "text"
      },
      "source": [
        "## Project Goals\n",
        "\n",
        "We will create a linear regression model that predicts the outcome for a tennis player based on their playing habits. By analyzing and modeling the Association of Tennis Professionals (ATP) data, we will determine what it takes to be one of the best tennis players in the world."
      ]
    },
    {
      "cell_type": "markdown",
      "metadata": {
        "id": "wlP2vncbw6aj",
        "colab_type": "text"
      },
      "source": [
        "First, import libraries/frameworks"
      ]
    },
    {
      "cell_type": "code",
      "metadata": {
        "id": "QjVIMi7isCV4",
        "colab_type": "code",
        "colab": {
          "base_uri": "https://localhost:8080/",
          "height": 34
        },
        "cellView": "both",
        "outputId": "43a27739-0d72-4b06-fc7f-38db5c8a4a32"
      },
      "source": [
        "#@title\n",
        "import pandas as pd\n",
        "import matplotlib.pyplot as plt\n",
        "from sklearn.model_selection import train_test_split\n",
        "from sklearn.linear_model import LinearRegression\n",
        "from google.colab import drive\n",
        "drive.mount('/content/drive')"
      ],
      "execution_count": 10,
      "outputs": [
        {
          "output_type": "stream",
          "text": [
            "Drive already mounted at /content/drive; to attempt to forcibly remount, call drive.mount(\"/content/drive\", force_remount=True).\n"
          ],
          "name": "stdout"
        }
      ]
    },
    {
      "cell_type": "code",
      "metadata": {
        "id": "8GgeHdhnutiu",
        "colab_type": "code",
        "colab": {
          "base_uri": "https://localhost:8080/",
          "height": 34
        },
        "outputId": "b7dc217a-5198-4c93-dfbc-be37b6a6c220"
      },
      "source": [
        "cd drive"
      ],
      "execution_count": 16,
      "outputs": [
        {
          "output_type": "stream",
          "text": [
            "/content/drive\n"
          ],
          "name": "stdout"
        }
      ]
    },
    {
      "cell_type": "code",
      "metadata": {
        "id": "AAJTkZnJvC68",
        "colab_type": "code",
        "colab": {
          "base_uri": "https://localhost:8080/",
          "height": 34
        },
        "outputId": "2e9c2d12-7e84-4f90-9b04-373469928375"
      },
      "source": [
        "cd  My\\ Drive"
      ],
      "execution_count": 18,
      "outputs": [
        {
          "output_type": "stream",
          "text": [
            "/content/drive/My Drive\n"
          ],
          "name": "stdout"
        }
      ]
    },
    {
      "cell_type": "code",
      "metadata": {
        "id": "VnYaPtmkvPYM",
        "colab_type": "code",
        "colab": {
          "base_uri": "https://localhost:8080/",
          "height": 34
        },
        "outputId": "778d430b-cd9f-467b-d095-6ed45a6c2d77"
      },
      "source": [
        "cd tennis_ace_starting/"
      ],
      "execution_count": 19,
      "outputs": [
        {
          "output_type": "stream",
          "text": [
            "/content/drive/My Drive/tennis_ace_starting\n"
          ],
          "name": "stdout"
        }
      ]
    },
    {
      "cell_type": "markdown",
      "metadata": {
        "id": "QIxrl1YixWVg",
        "colab_type": "text"
      },
      "source": [
        "We will load csv file and make a DataFrame out of it. The first step is to investigate and analyze parameters given. For this purpose, use ```DataFrame()``` method from Pandas framework.\n",
        "\n",
        "As we can see, the following parameters are given:\n",
        "\n",
        "\n",
        "1.   Identifying Data\n",
        "\n",
        "\n",
        "*   Player: name of the tennis player\n",
        "*   Year: year data was recorded\n",
        "\n",
        "\n",
        "2.   Service Game Columns (Offensive)\n",
        "\n",
        "*   Aces: number of serves by the player where the receiver does not touch the ball\n",
        "*   DoubleFaults: number of times player missed both first and second serve attempts\n",
        "\n",
        "*   FirstServe: % of first-serve attempts made\n",
        "*   FirstServePointsWon: % of first-serve attempt points won by the player\n",
        "*   SecondServePointsWon: % of second-serve attempt points won by the player\n",
        "*   BreakPointsFaced: number of times where the receiver could have won service game of the player\n",
        "*   BreakPointsSaved: % of the time the player was able to stop the receiver from winning service game when they had the chance\n",
        "*   ServiceGamesPlayed: total number of games where the player served\n",
        "*   ServiceGamesWon: total number of games where the player served and won\n",
        "*   TotalServicePointsWon: % of points in games where the player served that they won\n",
        "\n",
        "3. Return Game Columns (Defensive)\n",
        "*   FirstServeReturnPointsWon: % of opponents first-serve points the player was able to win\n",
        "*   SecondServeReturnPointsWon: % of opponents second-serve points the player was able to win\n",
        "*   BreakPointsOpportunities: number of times where the player could have won the service game of the opponent\n",
        "*   BreakPointsConverted: % of the time the player was able to win their opponent’s service game when they had the chance\n",
        "*   ReturnGamesPlayed: total number of games where the player’s opponent served\n",
        "*   ReturnGamesWon: total number of games where the player’s opponent served and the player won\n",
        "*   ReturnPointsWon: total number of points where the player’s opponent served and the player won\n",
        "*   TotalPointsWon: % of points won by the player\n",
        "4. Outcomes\n",
        "*   Wins: number of matches won in a year\n",
        "*   Losses: number of matches lost in a year\n",
        "*   Winnings: total winnings in USD($) in a year\n",
        "*   Ranking: ranking at the end of year\n",
        "\n"
      ]
    },
    {
      "cell_type": "code",
      "metadata": {
        "id": "nWleNXqtsD9G",
        "colab_type": "code",
        "colab": {}
      },
      "source": [
        "# load and investigate the data:\n",
        "data = pd.read_csv(\"tennis_stats.csv\")"
      ],
      "execution_count": 0,
      "outputs": []
    },
    {
      "cell_type": "code",
      "metadata": {
        "id": "PEKEhXn4tHj9",
        "colab_type": "code",
        "colab": {
          "base_uri": "https://localhost:8080/",
          "height": 343
        },
        "outputId": "102c7966-1a69-4769-d0f9-180380cb9fdc"
      },
      "source": [
        "# perform exploratory analysis:\n",
        "\n",
        "df = pd.DataFrame(data=data)\n",
        "df.head()"
      ],
      "execution_count": 25,
      "outputs": [
        {
          "output_type": "execute_result",
          "data": {
            "text/html": [
              "<div>\n",
              "<style scoped>\n",
              "    .dataframe tbody tr th:only-of-type {\n",
              "        vertical-align: middle;\n",
              "    }\n",
              "\n",
              "    .dataframe tbody tr th {\n",
              "        vertical-align: top;\n",
              "    }\n",
              "\n",
              "    .dataframe thead th {\n",
              "        text-align: right;\n",
              "    }\n",
              "</style>\n",
              "<table border=\"1\" class=\"dataframe\">\n",
              "  <thead>\n",
              "    <tr style=\"text-align: right;\">\n",
              "      <th></th>\n",
              "      <th>Player</th>\n",
              "      <th>Year</th>\n",
              "      <th>FirstServe</th>\n",
              "      <th>FirstServePointsWon</th>\n",
              "      <th>FirstServeReturnPointsWon</th>\n",
              "      <th>SecondServePointsWon</th>\n",
              "      <th>SecondServeReturnPointsWon</th>\n",
              "      <th>Aces</th>\n",
              "      <th>BreakPointsConverted</th>\n",
              "      <th>BreakPointsFaced</th>\n",
              "      <th>BreakPointsOpportunities</th>\n",
              "      <th>BreakPointsSaved</th>\n",
              "      <th>DoubleFaults</th>\n",
              "      <th>ReturnGamesPlayed</th>\n",
              "      <th>ReturnGamesWon</th>\n",
              "      <th>ReturnPointsWon</th>\n",
              "      <th>ServiceGamesPlayed</th>\n",
              "      <th>ServiceGamesWon</th>\n",
              "      <th>TotalPointsWon</th>\n",
              "      <th>TotalServicePointsWon</th>\n",
              "      <th>Wins</th>\n",
              "      <th>Losses</th>\n",
              "      <th>Winnings</th>\n",
              "      <th>Ranking</th>\n",
              "    </tr>\n",
              "  </thead>\n",
              "  <tbody>\n",
              "    <tr>\n",
              "      <th>0</th>\n",
              "      <td>Pedro Sousa</td>\n",
              "      <td>2016</td>\n",
              "      <td>0.88</td>\n",
              "      <td>0.50</td>\n",
              "      <td>0.38</td>\n",
              "      <td>0.50</td>\n",
              "      <td>0.39</td>\n",
              "      <td>0</td>\n",
              "      <td>0.14</td>\n",
              "      <td>7</td>\n",
              "      <td>7</td>\n",
              "      <td>0.43</td>\n",
              "      <td>2</td>\n",
              "      <td>9</td>\n",
              "      <td>0.11</td>\n",
              "      <td>0.38</td>\n",
              "      <td>8</td>\n",
              "      <td>0.50</td>\n",
              "      <td>0.43</td>\n",
              "      <td>0.50</td>\n",
              "      <td>1</td>\n",
              "      <td>2</td>\n",
              "      <td>39820</td>\n",
              "      <td>119</td>\n",
              "    </tr>\n",
              "    <tr>\n",
              "      <th>1</th>\n",
              "      <td>Roman Safiullin</td>\n",
              "      <td>2017</td>\n",
              "      <td>0.84</td>\n",
              "      <td>0.62</td>\n",
              "      <td>0.26</td>\n",
              "      <td>0.33</td>\n",
              "      <td>0.07</td>\n",
              "      <td>7</td>\n",
              "      <td>0.00</td>\n",
              "      <td>7</td>\n",
              "      <td>0</td>\n",
              "      <td>0.57</td>\n",
              "      <td>1</td>\n",
              "      <td>9</td>\n",
              "      <td>0.00</td>\n",
              "      <td>0.20</td>\n",
              "      <td>9</td>\n",
              "      <td>0.67</td>\n",
              "      <td>0.41</td>\n",
              "      <td>0.57</td>\n",
              "      <td>0</td>\n",
              "      <td>1</td>\n",
              "      <td>17334</td>\n",
              "      <td>381</td>\n",
              "    </tr>\n",
              "    <tr>\n",
              "      <th>2</th>\n",
              "      <td>Pedro Sousa</td>\n",
              "      <td>2017</td>\n",
              "      <td>0.83</td>\n",
              "      <td>0.60</td>\n",
              "      <td>0.28</td>\n",
              "      <td>0.53</td>\n",
              "      <td>0.44</td>\n",
              "      <td>2</td>\n",
              "      <td>0.38</td>\n",
              "      <td>10</td>\n",
              "      <td>8</td>\n",
              "      <td>0.40</td>\n",
              "      <td>1</td>\n",
              "      <td>19</td>\n",
              "      <td>0.16</td>\n",
              "      <td>0.34</td>\n",
              "      <td>17</td>\n",
              "      <td>0.65</td>\n",
              "      <td>0.45</td>\n",
              "      <td>0.59</td>\n",
              "      <td>4</td>\n",
              "      <td>1</td>\n",
              "      <td>109827</td>\n",
              "      <td>119</td>\n",
              "    </tr>\n",
              "    <tr>\n",
              "      <th>3</th>\n",
              "      <td>Rogerio Dutra Silva</td>\n",
              "      <td>2010</td>\n",
              "      <td>0.83</td>\n",
              "      <td>0.64</td>\n",
              "      <td>0.34</td>\n",
              "      <td>0.59</td>\n",
              "      <td>0.33</td>\n",
              "      <td>2</td>\n",
              "      <td>0.33</td>\n",
              "      <td>5</td>\n",
              "      <td>6</td>\n",
              "      <td>0.40</td>\n",
              "      <td>0</td>\n",
              "      <td>14</td>\n",
              "      <td>0.14</td>\n",
              "      <td>0.34</td>\n",
              "      <td>15</td>\n",
              "      <td>0.80</td>\n",
              "      <td>0.49</td>\n",
              "      <td>0.63</td>\n",
              "      <td>0</td>\n",
              "      <td>0</td>\n",
              "      <td>9761</td>\n",
              "      <td>125</td>\n",
              "    </tr>\n",
              "    <tr>\n",
              "      <th>4</th>\n",
              "      <td>Daniel Gimeno-Traver</td>\n",
              "      <td>2017</td>\n",
              "      <td>0.81</td>\n",
              "      <td>0.54</td>\n",
              "      <td>0.00</td>\n",
              "      <td>0.33</td>\n",
              "      <td>0.33</td>\n",
              "      <td>1</td>\n",
              "      <td>0.00</td>\n",
              "      <td>2</td>\n",
              "      <td>0</td>\n",
              "      <td>0.50</td>\n",
              "      <td>2</td>\n",
              "      <td>3</td>\n",
              "      <td>0.00</td>\n",
              "      <td>0.20</td>\n",
              "      <td>2</td>\n",
              "      <td>0.50</td>\n",
              "      <td>0.35</td>\n",
              "      <td>0.50</td>\n",
              "      <td>0</td>\n",
              "      <td>1</td>\n",
              "      <td>32879</td>\n",
              "      <td>272</td>\n",
              "    </tr>\n",
              "  </tbody>\n",
              "</table>\n",
              "</div>"
            ],
            "text/plain": [
              "                 Player  Year  FirstServe  ...  Losses  Winnings  Ranking\n",
              "0           Pedro Sousa  2016        0.88  ...       2     39820      119\n",
              "1       Roman Safiullin  2017        0.84  ...       1     17334      381\n",
              "2           Pedro Sousa  2017        0.83  ...       1    109827      119\n",
              "3   Rogerio Dutra Silva  2010        0.83  ...       0      9761      125\n",
              "4  Daniel Gimeno-Traver  2017        0.81  ...       1     32879      272\n",
              "\n",
              "[5 rows x 24 columns]"
            ]
          },
          "metadata": {
            "tags": []
          },
          "execution_count": 25
        }
      ]
    },
    {
      "cell_type": "code",
      "metadata": {
        "id": "wiiVmtqZwRN6",
        "colab_type": "code",
        "colab": {}
      },
      "source": [
        ""
      ],
      "execution_count": 0,
      "outputs": []
    }
  ]
}