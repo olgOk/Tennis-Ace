{
  "nbformat": 4,
  "nbformat_minor": 0,
  "metadata": {
    "colab": {
      "name": "TennisAce.ipynb",
      "provenance": [],
      "collapsed_sections": [],
      "authorship_tag": "ABX9TyN8mTKBIjVQZeJdZlUqkNkQ",
      "include_colab_link": true
    },
    "kernelspec": {
      "name": "python3",
      "display_name": "Python 3"
    }
  },
  "cells": [
    {
      "cell_type": "markdown",
      "metadata": {
        "id": "view-in-github",
        "colab_type": "text"
      },
      "source": [
        "<a href=\"https://colab.research.google.com/github/olgOk/Tennis-Ace/blob/master/TennisAce.ipynb\" target=\"_parent\"><img src=\"https://colab.research.google.com/assets/colab-badge.svg\" alt=\"Open In Colab\"/></a>"
      ]
    },
    {
      "cell_type": "markdown",
      "metadata": {
        "id": "Fclej9-bwpe0",
        "colab_type": "text"
      },
      "source": [
        "# Tennis Ace Regression Model"
      ]
    },
    {
      "cell_type": "markdown",
      "metadata": {
        "id": "lMSB3oO5wv7t",
        "colab_type": "text"
      },
      "source": [
        "## Project Goals\n",
        "\n",
        "We will create a linear regression model that predicts the outcome for a tennis player based on their playing habits. By analyzing and modeling the Association of Tennis Professionals (ATP) data, we will determine what it takes to be one of the best tennis players in the world."
      ]
    },
    {
      "cell_type": "markdown",
      "metadata": {
        "id": "wlP2vncbw6aj",
        "colab_type": "text"
      },
      "source": [
        "First, import libraries/frameworks"
      ]
    },
    {
      "cell_type": "code",
      "metadata": {
        "id": "QjVIMi7isCV4",
        "colab_type": "code",
        "colab": {
          "base_uri": "https://localhost:8080/",
          "height": 34
        },
        "cellView": "form",
        "outputId": "43a27739-0d72-4b06-fc7f-38db5c8a4a32"
      },
      "source": [
        "#@title\n",
        "import pandas as pd\n",
        "import matplotlib.pyplot as plt\n",
        "from sklearn.model_selection import train_test_split\n",
        "from sklearn.linear_model import LinearRegression\n",
        "from google.colab import drive\n",
        "drive.mount('/content/drive')"
      ],
      "execution_count": 10,
      "outputs": [
        {
          "output_type": "stream",
          "text": [
            "Drive already mounted at /content/drive; to attempt to forcibly remount, call drive.mount(\"/content/drive\", force_remount=True).\n"
          ],
          "name": "stdout"
        }
      ]
    },
    {
      "cell_type": "code",
      "metadata": {
        "id": "8GgeHdhnutiu",
        "colab_type": "code",
        "colab": {
          "base_uri": "https://localhost:8080/",
          "height": 34
        },
        "outputId": "b7dc217a-5198-4c93-dfbc-be37b6a6c220"
      },
      "source": [
        "cd drive"
      ],
      "execution_count": 16,
      "outputs": [
        {
          "output_type": "stream",
          "text": [
            "/content/drive\n"
          ],
          "name": "stdout"
        }
      ]
    },
    {
      "cell_type": "code",
      "metadata": {
        "id": "AAJTkZnJvC68",
        "colab_type": "code",
        "colab": {
          "base_uri": "https://localhost:8080/",
          "height": 34
        },
        "outputId": "2e9c2d12-7e84-4f90-9b04-373469928375"
      },
      "source": [
        "cd  My\\ Drive"
      ],
      "execution_count": 18,
      "outputs": [
        {
          "output_type": "stream",
          "text": [
            "/content/drive/My Drive\n"
          ],
          "name": "stdout"
        }
      ]
    },
    {
      "cell_type": "code",
      "metadata": {
        "id": "VnYaPtmkvPYM",
        "colab_type": "code",
        "colab": {
          "base_uri": "https://localhost:8080/",
          "height": 34
        },
        "outputId": "778d430b-cd9f-467b-d095-6ed45a6c2d77"
      },
      "source": [
        "cd tennis_ace_starting/"
      ],
      "execution_count": 19,
      "outputs": [
        {
          "output_type": "stream",
          "text": [
            "/content/drive/My Drive/tennis_ace_starting\n"
          ],
          "name": "stdout"
        }
      ]
    },
    {
      "cell_type": "markdown",
      "metadata": {
        "id": "QIxrl1YixWVg",
        "colab_type": "text"
      },
      "source": [
        "We will load csv file and make a DataFrame out of it. The first step is to investigate and analyze parameters given. For this purpose, use ```DataFrame()``` method from Pandas framework.\n",
        "\n",
        "As we can see, the following parameters are given:\n",
        "\n",
        "\n",
        "1.   Identifying Data\n",
        "\n",
        "\n",
        "*   Player: name of the tennis player\n",
        "*   Year: year data was recorded\n",
        "\n",
        "\n",
        "2.   Service Game Columns (Offensive)\n",
        "\n",
        "*   Aces: number of serves by the player where the receiver does not touch the ball\n",
        "*   DoubleFaults: number of times player missed both first and second serve attempts\n",
        "\n",
        "*   FirstServe: % of first-serve attempts made\n",
        "*   FirstServePointsWon: % of first-serve attempt points won by the player\n",
        "*   SecondServePointsWon: % of second-serve attempt points won by the player\n",
        "*   BreakPointsFaced: number of times where the receiver could have won service game of the player\n",
        "*   BreakPointsSaved: % of the time the player was able to stop the receiver from winning service game when they had the chance\n",
        "*   ServiceGamesPlayed: total number of games where the player served\n",
        "*   ServiceGamesWon: total number of games where the player served and won\n",
        "*   TotalServicePointsWon: % of points in games where the player served that they won\n",
        "\n",
        "3. Return Game Columns (Defensive)\n",
        "*   FirstServeReturnPointsWon: % of opponents first-serve points the player was able to win\n",
        "*   SecondServeReturnPointsWon: % of opponents second-serve points the player was able to win\n",
        "*   BreakPointsOpportunities: number of times where the player could have won the service game of the opponent\n",
        "*   BreakPointsConverted: % of the time the player was able to win their opponent’s service game when they had the chance\n",
        "*   ReturnGamesPlayed: total number of games where the player’s opponent served\n",
        "*   ReturnGamesWon: total number of games where the player’s opponent served and the player won\n",
        "*   ReturnPointsWon: total number of points where the player’s opponent served and the player won\n",
        "*   TotalPointsWon: % of points won by the player\n",
        "4. Outcomes\n",
        "*   Wins: number of matches won in a year\n",
        "*   Losses: number of matches lost in a year\n",
        "*   Winnings: total winnings in USD($) in a year\n",
        "*   Ranking: ranking at the end of year\n",
        "\n"
      ]
    },
    {
      "cell_type": "code",
      "metadata": {
        "id": "nWleNXqtsD9G",
        "colab_type": "code",
        "colab": {}
      },
      "source": [
        "# load and investigate the data:\n",
        "data = pd.read_csv(\"tennis_stats.csv\")"
      ],
      "execution_count": 0,
      "outputs": []
    },
    {
      "cell_type": "code",
      "metadata": {
        "id": "PEKEhXn4tHj9",
        "colab_type": "code",
        "colab": {
          "base_uri": "https://localhost:8080/",
          "height": 343
        },
        "outputId": "102c7966-1a69-4769-d0f9-180380cb9fdc"
      },
      "source": [
        "# perform exploratory analysis:\n",
        "\n",
        "df = pd.DataFrame(data=data)\n",
        "df.head()"
      ],
      "execution_count": 25,
      "outputs": [
        {
          "output_type": "execute_result",
          "data": {
            "text/html": [
              "<div>\n",
              "<style scoped>\n",
              "    .dataframe tbody tr th:only-of-type {\n",
              "        vertical-align: middle;\n",
              "    }\n",
              "\n",
              "    .dataframe tbody tr th {\n",
              "        vertical-align: top;\n",
              "    }\n",
              "\n",
              "    .dataframe thead th {\n",
              "        text-align: right;\n",
              "    }\n",
              "</style>\n",
              "<table border=\"1\" class=\"dataframe\">\n",
              "  <thead>\n",
              "    <tr style=\"text-align: right;\">\n",
              "      <th></th>\n",
              "      <th>Player</th>\n",
              "      <th>Year</th>\n",
              "      <th>FirstServe</th>\n",
              "      <th>FirstServePointsWon</th>\n",
              "      <th>FirstServeReturnPointsWon</th>\n",
              "      <th>SecondServePointsWon</th>\n",
              "      <th>SecondServeReturnPointsWon</th>\n",
              "      <th>Aces</th>\n",
              "      <th>BreakPointsConverted</th>\n",
              "      <th>BreakPointsFaced</th>\n",
              "      <th>BreakPointsOpportunities</th>\n",
              "      <th>BreakPointsSaved</th>\n",
              "      <th>DoubleFaults</th>\n",
              "      <th>ReturnGamesPlayed</th>\n",
              "      <th>ReturnGamesWon</th>\n",
              "      <th>ReturnPointsWon</th>\n",
              "      <th>ServiceGamesPlayed</th>\n",
              "      <th>ServiceGamesWon</th>\n",
              "      <th>TotalPointsWon</th>\n",
              "      <th>TotalServicePointsWon</th>\n",
              "      <th>Wins</th>\n",
              "      <th>Losses</th>\n",
              "      <th>Winnings</th>\n",
              "      <th>Ranking</th>\n",
              "    </tr>\n",
              "  </thead>\n",
              "  <tbody>\n",
              "    <tr>\n",
              "      <th>0</th>\n",
              "      <td>Pedro Sousa</td>\n",
              "      <td>2016</td>\n",
              "      <td>0.88</td>\n",
              "      <td>0.50</td>\n",
              "      <td>0.38</td>\n",
              "      <td>0.50</td>\n",
              "      <td>0.39</td>\n",
              "      <td>0</td>\n",
              "      <td>0.14</td>\n",
              "      <td>7</td>\n",
              "      <td>7</td>\n",
              "      <td>0.43</td>\n",
              "      <td>2</td>\n",
              "      <td>9</td>\n",
              "      <td>0.11</td>\n",
              "      <td>0.38</td>\n",
              "      <td>8</td>\n",
              "      <td>0.50</td>\n",
              "      <td>0.43</td>\n",
              "      <td>0.50</td>\n",
              "      <td>1</td>\n",
              "      <td>2</td>\n",
              "      <td>39820</td>\n",
              "      <td>119</td>\n",
              "    </tr>\n",
              "    <tr>\n",
              "      <th>1</th>\n",
              "      <td>Roman Safiullin</td>\n",
              "      <td>2017</td>\n",
              "      <td>0.84</td>\n",
              "      <td>0.62</td>\n",
              "      <td>0.26</td>\n",
              "      <td>0.33</td>\n",
              "      <td>0.07</td>\n",
              "      <td>7</td>\n",
              "      <td>0.00</td>\n",
              "      <td>7</td>\n",
              "      <td>0</td>\n",
              "      <td>0.57</td>\n",
              "      <td>1</td>\n",
              "      <td>9</td>\n",
              "      <td>0.00</td>\n",
              "      <td>0.20</td>\n",
              "      <td>9</td>\n",
              "      <td>0.67</td>\n",
              "      <td>0.41</td>\n",
              "      <td>0.57</td>\n",
              "      <td>0</td>\n",
              "      <td>1</td>\n",
              "      <td>17334</td>\n",
              "      <td>381</td>\n",
              "    </tr>\n",
              "    <tr>\n",
              "      <th>2</th>\n",
              "      <td>Pedro Sousa</td>\n",
              "      <td>2017</td>\n",
              "      <td>0.83</td>\n",
              "      <td>0.60</td>\n",
              "      <td>0.28</td>\n",
              "      <td>0.53</td>\n",
              "      <td>0.44</td>\n",
              "      <td>2</td>\n",
              "      <td>0.38</td>\n",
              "      <td>10</td>\n",
              "      <td>8</td>\n",
              "      <td>0.40</td>\n",
              "      <td>1</td>\n",
              "      <td>19</td>\n",
              "      <td>0.16</td>\n",
              "      <td>0.34</td>\n",
              "      <td>17</td>\n",
              "      <td>0.65</td>\n",
              "      <td>0.45</td>\n",
              "      <td>0.59</td>\n",
              "      <td>4</td>\n",
              "      <td>1</td>\n",
              "      <td>109827</td>\n",
              "      <td>119</td>\n",
              "    </tr>\n",
              "    <tr>\n",
              "      <th>3</th>\n",
              "      <td>Rogerio Dutra Silva</td>\n",
              "      <td>2010</td>\n",
              "      <td>0.83</td>\n",
              "      <td>0.64</td>\n",
              "      <td>0.34</td>\n",
              "      <td>0.59</td>\n",
              "      <td>0.33</td>\n",
              "      <td>2</td>\n",
              "      <td>0.33</td>\n",
              "      <td>5</td>\n",
              "      <td>6</td>\n",
              "      <td>0.40</td>\n",
              "      <td>0</td>\n",
              "      <td>14</td>\n",
              "      <td>0.14</td>\n",
              "      <td>0.34</td>\n",
              "      <td>15</td>\n",
              "      <td>0.80</td>\n",
              "      <td>0.49</td>\n",
              "      <td>0.63</td>\n",
              "      <td>0</td>\n",
              "      <td>0</td>\n",
              "      <td>9761</td>\n",
              "      <td>125</td>\n",
              "    </tr>\n",
              "    <tr>\n",
              "      <th>4</th>\n",
              "      <td>Daniel Gimeno-Traver</td>\n",
              "      <td>2017</td>\n",
              "      <td>0.81</td>\n",
              "      <td>0.54</td>\n",
              "      <td>0.00</td>\n",
              "      <td>0.33</td>\n",
              "      <td>0.33</td>\n",
              "      <td>1</td>\n",
              "      <td>0.00</td>\n",
              "      <td>2</td>\n",
              "      <td>0</td>\n",
              "      <td>0.50</td>\n",
              "      <td>2</td>\n",
              "      <td>3</td>\n",
              "      <td>0.00</td>\n",
              "      <td>0.20</td>\n",
              "      <td>2</td>\n",
              "      <td>0.50</td>\n",
              "      <td>0.35</td>\n",
              "      <td>0.50</td>\n",
              "      <td>0</td>\n",
              "      <td>1</td>\n",
              "      <td>32879</td>\n",
              "      <td>272</td>\n",
              "    </tr>\n",
              "  </tbody>\n",
              "</table>\n",
              "</div>"
            ],
            "text/plain": [
              "                 Player  Year  FirstServe  ...  Losses  Winnings  Ranking\n",
              "0           Pedro Sousa  2016        0.88  ...       2     39820      119\n",
              "1       Roman Safiullin  2017        0.84  ...       1     17334      381\n",
              "2           Pedro Sousa  2017        0.83  ...       1    109827      119\n",
              "3   Rogerio Dutra Silva  2010        0.83  ...       0      9761      125\n",
              "4  Daniel Gimeno-Traver  2017        0.81  ...       1     32879      272\n",
              "\n",
              "[5 rows x 24 columns]"
            ]
          },
          "metadata": {
            "tags": []
          },
          "execution_count": 25
        }
      ]
    },
    {
      "cell_type": "markdown",
      "metadata": {
        "id": "PY3-jUkx14Fe",
        "colab_type": "text"
      },
      "source": [
        "Let's perform exploratory analysis on the data by plotting different features against the different outcomes. We will utilize matplotlib’s `.scatter()` method to plot different features against different outcomes. As you can see, there is a strong relationship between the *BreakPointsOpportunities* feature and the *Winnings* outcome."
      ]
    },
    {
      "cell_type": "code",
      "metadata": {
        "id": "wiiVmtqZwRN6",
        "colab_type": "code",
        "colab": {
          "base_uri": "https://localhost:8080/",
          "height": 279
        },
        "outputId": "caa84b04-6960-4dc5-e63f-c90238682829"
      },
      "source": [
        "plt.scatter(df[['FirstServePointsWon']], df[[\"Winnings\"]])\n",
        "plt.xlabel(xlabel='FirstServePointsWon')\n",
        "plt.ylabel(ylabel='Winnings')\n",
        "plt.show()"
      ],
      "execution_count": 29,
      "outputs": [
        {
          "output_type": "display_data",
          "data": {
            "image/png": "[encoded data removed]",
            "text/plain": [
              "<Figure size 432x288 with 1 Axes>"
            ]
          },
          "metadata": {
            "tags": []
          }
        }
      ]
    },
    {
      "cell_type": "code",
      "metadata": {
        "id": "JT6ktiBX2ppW",
        "colab_type": "code",
        "colab": {
          "base_uri": "https://localhost:8080/",
          "height": 279
        },
        "outputId": "54b43ea0-1f4c-41a5-90b7-760070df7e74"
      },
      "source": [
        "plt.scatter(df[['BreakPointsOpportunities']], df[[\"Winnings\"]])\n",
        "plt.xlabel(xlabel='BreakPointsOpportunities')\n",
        "plt.ylabel(ylabel='Winnings')\n",
        "plt.show()"
      ],
      "execution_count": 30,
      "outputs": [
        {
          "output_type": "display_data",
          "data": {
            "image/png": "[encoded data removed]",
            "text/plain": [
              "<Figure size 432x288 with 1 Axes>"
            ]
          },
          "metadata": {
            "tags": []
          }
        }
      ]
    },
    {
      "cell_type": "code",
      "metadata": {
        "id": "F01avs473Ktb",
        "colab_type": "code",
        "colab": {
          "base_uri": "https://localhost:8080/",
          "height": 279
        },
        "outputId": "7e4d6994-7cb5-4e9a-b601-9f9b6ea0f2cd"
      },
      "source": [
        "plt.scatter(df[['TotalPointsWon']], df[[\"Winnings\"]])\n",
        "plt.xlabel(xlabel='TotalPointsWon')\n",
        "plt.ylabel(ylabel='Winnings')\n",
        "plt.show()"
      ],
      "execution_count": 31,
      "outputs": [
        {
          "output_type": "display_data",
          "data": {
            "image/png": "[encoded data removed]",
            "text/plain": [
              "<Figure size 432x288 with 1 Axes>"
            ]
          },
          "metadata": {
            "tags": []
          }
        }
      ]
    },
    {
      "cell_type": "markdown",
      "metadata": {
        "id": "U2e1xAoe4ANF",
        "colab_type": "text"
      },
      "source": [
        "Before we start to train the model and making predictions out of it, let's split the data set into training and evaluating sets using ``` train_test_split() ``` method. 80% of the data will serve as a training set, and 20% of the data will be testing set.\n",
        "\n"
      ]
    },
    {
      "cell_type": "code",
      "metadata": {
        "id": "0X4VdFdh3W_y",
        "colab_type": "code",
        "colab": {}
      },
      "source": [
        "# define x axis\t\t\t\t\t\t\t\n",
        "x = df[['FirstServe', 'FirstServePointsWon', 'FirstServeReturnPointsWon',\n",
        "        'SecondServePointsWon', 'SecondServeReturnPointsWon', 'Aces',\n",
        "        'BreakPointsConverted', 'BreakPointsFaced', 'BreakPointsOpportunities',\n",
        "        'BreakPointsSaved', 'DoubleFaults', 'ReturnGamesPlayed', 'ReturnGamesWon',\n",
        "        'ReturnPointsWon', 'ServiceGamesPlayed', 'ServiceGamesWon', 'TotalPointsWon',\n",
        "        'TotalServicePointsWon', 'Wins', 'Losses', 'Ranking']]\n",
        "# define y axis\n",
        "y = df[['Winnings']]\n",
        "\n",
        "x_train, x_test, y_train, y_test = train_test_split(x, y, train_size=0.8, test_size=0.2) "
      ],
      "execution_count": 0,
      "outputs": []
    },
    {
      "cell_type": "markdown",
      "metadata": {
        "id": "2u8niSW37MbI",
        "colab_type": "text"
      },
      "source": [
        "We will create a multiple linear regression model using `sklear.LinearRegression`. We fit the training set to the model and then make a prediction."
      ]
    },
    {
      "cell_type": "code",
      "metadata": {
        "id": "Cn0bGH7J6ola",
        "colab_type": "code",
        "colab": {
          "base_uri": "https://localhost:8080/",
          "height": 279
        },
        "outputId": "b45b5a40-19ce-4202-d647-8a1928490ae6"
      },
      "source": [
        "mlr = LinearRegression()\n",
        "mlr.fit(x_train, y_train)\n",
        "y_predict = mlr.predict(x_test)\n",
        "plt.scatter(y_test,y_predict)\n",
        "plt.xlabel(\"Predicted Winnings\")\n",
        "plt.ylabel(\"Actual Winnings\")\n",
        "plt.show()"
      ],
      "execution_count": 39,
      "outputs": [
        {
          "output_type": "display_data",
          "data": {
            "image/png": "[encoded data removed]",
            "text/plain": [
              "<Figure size 432x288 with 1 Axes>"
            ]
          },
          "metadata": {
            "tags": []
          }
        }
      ]
    },
    {
      "cell_type": "markdown",
      "metadata": {
        "id": "0Tmo67Jk8d1q",
        "colab_type": "text"
      },
      "source": [
        "After performing multiple linear regression, we can print the coefficients using `.coef_`.\n",
        "\n",
        "Coefficients are most helpful in determining which independent variable carries more weight. For example, a coefficient of -1.345 will impact the rent more than a coefficient of 0.238, with the former impacting prices negatively and latter positively. \n",
        "\n",
        "After analyzing the values of the coefficients, I will remove less impuctfull from the training and testing sets:\n",
        "\n",
        "\n",
        "*   Aces\n",
        "*   BreakPointsFaced\n",
        "*   BreakPointsOpportunities\n",
        "*   DoubleFaults\n",
        "*   ReturnGamesPlayed\n",
        "*   Ranking\n",
        "\n",
        "Additionaly, we will print out the accuracy of the model before and after the feature cleaning. As you can see, after removing some features model learns the coefficients more correctly.\n",
        "\n"
      ]
    },
    {
      "cell_type": "code",
      "metadata": {
        "id": "eBWXvyWA8AlH",
        "colab_type": "code",
        "colab": {
          "base_uri": "https://localhost:8080/",
          "height": 153
        },
        "outputId": "3608a2b3-7884-45de-d58b-023da5823fdd"
      },
      "source": [
        "print(\"Accuracy on training set = \", mlr.score(x_train, y_train))\n",
        "print(\"Accuracy on testing set = \", mlr.score(x_test, y_test))\n",
        "print(\"model coff =\", mlr.coef_)"
      ],
      "execution_count": 44,
      "outputs": [
        {
          "output_type": "stream",
          "text": [
            "Accuracy on training set =  0.8758500055118217\n",
            "Accuracy on testing set =  0.8602465738792887\n",
            "model coff = [[-2.72730068e+04 -1.10079504e+04  4.97111863e+03  6.31413349e+03\n",
            "   5.64523452e+04 -8.84520377e+01  1.61817573e+04 -6.32252298e+02\n",
            "   4.37896598e+02  3.38019607e+04  4.81388174e+02 -7.52965106e+02\n",
            "   1.93648216e+04 -1.34686571e+05  1.21264529e+03 -3.58338586e+03\n",
            "  -9.02331706e+04  7.10878379e+04  1.06607284e+04  3.77379326e+03\n",
            "  -7.24342671e+01]]\n"
          ],
          "name": "stdout"
        }
      ]
    },
    {
      "cell_type": "code",
      "metadata": {
        "id": "80odmcvh8T6h",
        "colab_type": "code",
        "colab": {
          "base_uri": "https://localhost:8080/",
          "height": 51
        },
        "outputId": "5484af74-cc6e-4e7c-cc5a-59220f0d0a03"
      },
      "source": [
        "# redefiny x axises\n",
        "x = df[['FirstServe', 'FirstServePointsWon', 'FirstServeReturnPointsWon',\n",
        "        'SecondServePointsWon', 'SecondServeReturnPointsWon', 'BreakPointsConverted',\n",
        "        'BreakPointsSaved', 'ReturnGamesWon', 'ReturnPointsWon', 'ServiceGamesPlayed',\n",
        "        'ServiceGamesWon', 'TotalPointsWon', 'TotalServicePointsWon', 'Wins', 'Losses']]\n",
        "\n",
        "y = df[['Winnings']]\n",
        "\n",
        "x_train, x_test, y_train, y_test = train_test_split(x, y, train_size=0.8, test_size=0.2)\n",
        "mlr.fit(x_train, y_train)\n",
        "y_predict = mlr.predict(x_test)\n",
        "print(\"Accuracy on training set = \", mlr.score(x_train, y_train))\n",
        "print(\"Accuracy on testing set = \", mlr.score(x_test, y_test))"
      ],
      "execution_count": 46,
      "outputs": [
        {
          "output_type": "stream",
          "text": [
            "Accuracy on training set =  0.8651811819468667\n",
            "Accuracy on testing set =  0.868794980398225\n"
          ],
          "name": "stdout"
        }
      ]
    }
  ]
}